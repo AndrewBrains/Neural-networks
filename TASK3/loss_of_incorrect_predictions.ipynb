{
  "nbformat": 4,
  "nbformat_minor": 0,
  "metadata": {
    "colab": {
      "name": "loss_of_incorrect_predictions.ipynb",
      "provenance": [],
      "collapsed_sections": []
    },
    "kernelspec": {
      "name": "python3",
      "display_name": "Python 3"
    },
    "accelerator": "GPU"
  },
  "cells": [
    {
      "cell_type": "code",
      "metadata": {
        "id": "1EbHJbDiajF_",
        "colab_type": "code",
        "colab": {}
      },
      "source": [
        "from matplotlib import pyplot as plt\n",
        "import tensorflow as tf\n",
        "import numpy as np"
      ],
      "execution_count": 0,
      "outputs": []
    },
    {
      "cell_type": "code",
      "metadata": {
        "id": "nivWkpJTbmfS",
        "colab_type": "code",
        "colab": {}
      },
      "source": [
        "def display_digit(data):\n",
        "  plt.imshow(data, interpolation='nearest')\n",
        "  plt.show()"
      ],
      "execution_count": 0,
      "outputs": []
    },
    {
      "cell_type": "code",
      "metadata": {
        "id": "rHGEqjPGYMyR",
        "colab_type": "code",
        "outputId": "6659f400-a425-4dd9-9736-6b356b7fb5d4",
        "colab": {
          "base_uri": "https://localhost:8080/",
          "height": 275
        }
      },
      "source": [
        "\n",
        "import tensorflow as tf\n",
        "mnist = tf.keras.datasets.mnist\n",
        "(x_train, y_train),(x_test, y_test) = mnist.load_data()\n",
        "x_train, x_test = x_train / 255.0, x_test / 255.0\n",
        "model = tf.keras.models.Sequential([\n",
        "  tf.keras.layers.Flatten(input_shape=(28, 28)),\n",
        "  tf.keras.layers.Dense(50, activation=tf.nn.relu),\n",
        "  tf.keras.layers.Dropout(0.2),\n",
        "  tf.keras.layers.Dense(10, activation=tf.nn.softmax)\n",
        "])\n",
        "model.compile(optimizer='adam',\n",
        "              loss='sparse_categorical_crossentropy',\n",
        "              metrics=['accuracy'])\n",
        "model.fit(x_train, y_train, epochs=5)\n",
        "model.evaluate(x_test, y_test)\n",
        "predictions = model.predict(x_train[0:5000,:,:])\n",
        "err=[]\n",
        "correction = []\n",
        "sess = tf.compat.v1.Session()\n",
        "for i in range (0,5000):\n",
        "    if (predictions[i].argmax()!=y_train[i]):\n",
        "        prediction = tf.nn.softmax(predictions[i])\n",
        "        ls = tf.keras.losses.sparse_categorical_crossentropy(y_train[i], prediction)\n",
        "        err.append((i,ls.eval(session=sess)))\n",
        "        correction.append((i,0.1))\n",
        "err.sort(key=lambda i: i[1])\n",
        "print(err)\n",
        "print(correction)\n",
        "sess.close()"
      ],
      "execution_count": 0,
      "outputs": [
        {
          "output_type": "stream",
          "text": [
            "Train on 60000 samples\n",
            "Epoch 1/5\n",
            "60000/60000 [==============================] - 7s 117us/sample - loss: 0.3947 - acc: 0.8842\n",
            "Epoch 2/5\n",
            "60000/60000 [==============================] - 6s 107us/sample - loss: 0.2142 - acc: 0.9360\n",
            "Epoch 3/5\n",
            "60000/60000 [==============================] - 6s 103us/sample - loss: 0.1754 - acc: 0.9474\n",
            "Epoch 4/5\n",
            "60000/60000 [==============================] - 6s 103us/sample - loss: 0.1526 - acc: 0.9540\n",
            "Epoch 5/5\n",
            "60000/60000 [==============================] - 6s 106us/sample - loss: 0.1395 - acc: 0.9568\n",
            "10000/10000 [==============================] - 1s 146us/sample - loss: 0.1100 - acc: 0.9670\n",
            "[(2734, 1.926693), (2758, 1.9569616), (4692, 1.9603075), (2636, 1.9640039), (846, 1.9650903), (1021, 1.9695109), (3374, 1.9731578), (718, 1.9847889), (1222, 2.0099702), (1201, 2.0286233), (946, 2.0307548), (4654, 2.0403144), (1137, 2.0446606), (4276, 2.0476851), (268, 2.052771), (850, 2.0753145), (444, 2.0819697), (2320, 2.0906212), (1015, 2.0908413), (282, 2.0953865), (1088, 2.097569), (4438, 2.099101), (4935, 2.1005626), (3010, 2.1015887), (4334, 2.106336), (3691, 2.1218731), (2272, 2.1233451), (148, 2.1326797), (1714, 2.1333447), (2184, 2.1527324), (1324, 2.1563754), (2220, 2.1622324), (2064, 2.1649637), (1030, 2.1686647), (4762, 2.1713543), (2426, 2.180499), (588, 2.195758), (346, 2.1960993), (4986, 2.1977582), (788, 2.2014103), (4590, 2.2025428), (4028, 2.2028432), (4165, 2.203093), (48, 2.20371), (966, 2.212011), (2831, 2.2166715), (1376, 2.2179053), (547, 2.2208908), (24, 2.2285948), (500, 2.2366264), (224, 2.237167), (670, 2.2383857), (1814, 2.2427058), (4694, 2.243106), (1120, 2.2461634), (3696, 2.2486982), (854, 2.2538834), (4050, 2.268637), (3210, 2.277957), (3814, 2.2780602), (1512, 2.293288), (4638, 2.2988427), (4362, 2.2990837), (1075, 2.3010974), (974, 2.3049178), (470, 2.3058658), (1920, 2.3062737), (3030, 2.3163197), (4968, 2.3326273), (1079, 2.333256), (1029, 2.3441103), (778, 2.3472128), (1404, 2.3509412), (4636, 2.3587291), (1032, 2.3680305), (1127, 2.370633), (4322, 2.3732986), (1554, 2.3737786), (1674, 2.3749106), (1375, 2.3854492), (172, 2.3863182), (4153, 2.3979778), (635, 2.4013457), (3510, 2.4053807), (1968, 2.4083962), (80, 2.4120185), (3692, 2.413553), (720, 2.4169943), (132, 2.41824), (2901, 2.4188616), (4955, 2.4287193), (892, 2.4297626), (2044, 2.4319043), (1244, 2.4420505), (1352, 2.449401), (4476, 2.4503713), (2720, 2.4536355), (1604, 2.4550312), (2676, 2.4562433), (902, 2.4562936), (494, 2.4606097)]\n",
            "[(24, 0.1), (48, 0.1), (80, 0.1), (132, 0.1), (148, 0.1), (172, 0.1), (224, 0.1), (268, 0.1), (282, 0.1), (346, 0.1), (444, 0.1), (470, 0.1), (494, 0.1), (500, 0.1), (547, 0.1), (588, 0.1), (635, 0.1), (670, 0.1), (718, 0.1), (720, 0.1), (778, 0.1), (788, 0.1), (846, 0.1), (850, 0.1), (854, 0.1), (892, 0.1), (902, 0.1), (946, 0.1), (966, 0.1), (974, 0.1), (1015, 0.1), (1021, 0.1), (1029, 0.1), (1030, 0.1), (1032, 0.1), (1075, 0.1), (1079, 0.1), (1088, 0.1), (1120, 0.1), (1127, 0.1), (1137, 0.1), (1201, 0.1), (1222, 0.1), (1244, 0.1), (1324, 0.1), (1352, 0.1), (1375, 0.1), (1376, 0.1), (1404, 0.1), (1512, 0.1), (1554, 0.1), (1604, 0.1), (1674, 0.1), (1714, 0.1), (1814, 0.1), (1920, 0.1), (1968, 0.1), (2044, 0.1), (2064, 0.1), (2184, 0.1), (2220, 0.1), (2272, 0.1), (2320, 0.1), (2426, 0.1), (2636, 0.1), (2676, 0.1), (2720, 0.1), (2734, 0.1), (2758, 0.1), (2831, 0.1), (2901, 0.1), (3010, 0.1), (3030, 0.1), (3210, 0.1), (3374, 0.1), (3510, 0.1), (3691, 0.1), (3692, 0.1), (3696, 0.1), (3814, 0.1), (4028, 0.1), (4050, 0.1), (4153, 0.1), (4165, 0.1), (4276, 0.1), (4322, 0.1), (4334, 0.1), (4362, 0.1), (4438, 0.1), (4476, 0.1), (4590, 0.1), (4636, 0.1), (4638, 0.1), (4654, 0.1), (4692, 0.1), (4694, 0.1), (4762, 0.1), (4935, 0.1), (4955, 0.1), (4968, 0.1), (4986, 0.1)]\n"
          ],
          "name": "stdout"
        }
      ]
    },
    {
      "cell_type": "code",
      "metadata": {
        "id": "sKxC85DQcE1g",
        "colab_type": "code",
        "colab": {}
      },
      "source": [
        "for i in err:\n",
        "  display_digit(x_train[i[0]])"
      ],
      "execution_count": 0,
      "outputs": []
    },
    {
      "cell_type": "code",
      "metadata": {
        "id": "A7PMOr1G608T",
        "colab_type": "code",
        "outputId": "ec4b9a22-f48e-4789-882a-5ed136f7e6e0",
        "colab": {
          "base_uri": "https://localhost:8080/",
          "height": 238
        }
      },
      "source": [
        "model = tf.keras.models.Sequential([\n",
        "  tf.keras.layers.Flatten(input_shape=(28, 28)),\n",
        "  tf.keras.layers.Dense(50, activation=tf.nn.relu),\n",
        "  tf.keras.layers.Dropout(0.2),\n",
        "  tf.keras.layers.Dense(10, activation=tf.nn.softmax)\n",
        "])\n",
        "model.compile(optimizer='adam',\n",
        "              loss='sparse_categorical_crossentropy',\n",
        "              metrics=['accuracy'])\n",
        "model.fit(x_train, y_train, epochs=5, class_weight = correction)\n",
        "model.evaluate(x_test, y_test)\n"
      ],
      "execution_count": 0,
      "outputs": [
        {
          "output_type": "stream",
          "text": [
            "Train on 60000 samples\n",
            "Epoch 1/5\n",
            "60000/60000 [==============================] - 7s 113us/sample - loss: 0.3886 - acc: 0.8871\n",
            "Epoch 2/5\n",
            "60000/60000 [==============================] - 6s 105us/sample - loss: 0.2150 - acc: 0.9359\n",
            "Epoch 3/5\n",
            "60000/60000 [==============================] - 6s 104us/sample - loss: 0.1767 - acc: 0.9466\n",
            "Epoch 4/5\n",
            "60000/60000 [==============================] - 6s 107us/sample - loss: 0.1533 - acc: 0.9541\n",
            "Epoch 5/5\n",
            "60000/60000 [==============================] - 6s 107us/sample - loss: 0.1414 - acc: 0.9563\n",
            "10000/10000 [==============================] - 1s 147us/sample - loss: 0.1079 - acc: 0.9664\n"
          ],
          "name": "stdout"
        },
        {
          "output_type": "execute_result",
          "data": {
            "text/plain": [
              "[0.10785342974644155, 0.9664]"
            ]
          },
          "metadata": {
            "tags": []
          },
          "execution_count": 46
        }
      ]
    }
  ]
}